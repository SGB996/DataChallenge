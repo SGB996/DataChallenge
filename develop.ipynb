{
 "cells": [
  {
   "cell_type": "code",
   "execution_count": 1,
   "metadata": {},
   "outputs": [],
   "source": [
    "import os\n",
    "import sys\n",
    "\n",
    "import pandas as pd\n",
    "import pandasql as ps\n",
    "import numpy as np\n",
    "from datetime import datetime, timedelta\n",
    "import psycopg2\n",
    "import matplotlib.pyplot as plt\n",
    "from tqdm import tqdm\n",
    "\n",
    "from constants import *"
   ]
  },
  {
   "cell_type": "code",
   "execution_count": 2,
   "metadata": {},
   "outputs": [
    {
     "data": {
      "text/html": [
       "<div>\n",
       "<style scoped>\n",
       "    .dataframe tbody tr th:only-of-type {\n",
       "        vertical-align: middle;\n",
       "    }\n",
       "\n",
       "    .dataframe tbody tr th {\n",
       "        vertical-align: top;\n",
       "    }\n",
       "\n",
       "    .dataframe thead th {\n",
       "        text-align: right;\n",
       "    }\n",
       "</style>\n",
       "<table border=\"1\" class=\"dataframe\">\n",
       "  <thead>\n",
       "    <tr style=\"text-align: right;\">\n",
       "      <th></th>\n",
       "      <th>region</th>\n",
       "      <th>origin_coord</th>\n",
       "      <th>destination_coord</th>\n",
       "      <th>datetime</th>\n",
       "      <th>datasource</th>\n",
       "    </tr>\n",
       "  </thead>\n",
       "  <tbody>\n",
       "    <tr>\n",
       "      <th>0</th>\n",
       "      <td>Prague</td>\n",
       "      <td>POINT (14.4973794438195 50.00136875782316)</td>\n",
       "      <td>POINT (14.43109483523328 50.04052930943246)</td>\n",
       "      <td>2018-05-28 09:03:40</td>\n",
       "      <td>funny_car</td>\n",
       "    </tr>\n",
       "    <tr>\n",
       "      <th>1</th>\n",
       "      <td>Turin</td>\n",
       "      <td>POINT (7.672837913286881 44.9957109242058)</td>\n",
       "      <td>POINT (7.720368637535126 45.06782385393849)</td>\n",
       "      <td>2018-05-21 02:54:04</td>\n",
       "      <td>baba_car</td>\n",
       "    </tr>\n",
       "    <tr>\n",
       "      <th>2</th>\n",
       "      <td>Prague</td>\n",
       "      <td>POINT (14.32427345662177 50.00002074358429)</td>\n",
       "      <td>POINT (14.47767895969969 50.09339790740321)</td>\n",
       "      <td>2018-05-13 08:52:25</td>\n",
       "      <td>cheap_mobile</td>\n",
       "    </tr>\n",
       "    <tr>\n",
       "      <th>3</th>\n",
       "      <td>Turin</td>\n",
       "      <td>POINT (7.541509189114433 45.09160503827746)</td>\n",
       "      <td>POINT (7.74528653441973 45.02628598341506)</td>\n",
       "      <td>2018-05-06 09:49:16</td>\n",
       "      <td>bad_diesel_vehicles</td>\n",
       "    </tr>\n",
       "    <tr>\n",
       "      <th>4</th>\n",
       "      <td>Turin</td>\n",
       "      <td>POINT (7.614078119815749 45.13433106465422)</td>\n",
       "      <td>POINT (7.527497142312585 45.03335051325654)</td>\n",
       "      <td>2018-05-23 12:45:54</td>\n",
       "      <td>pt_search_app</td>\n",
       "    </tr>\n",
       "  </tbody>\n",
       "</table>\n",
       "</div>"
      ],
      "text/plain": [
       "   region                                 origin_coord  \\\n",
       "0  Prague   POINT (14.4973794438195 50.00136875782316)   \n",
       "1   Turin   POINT (7.672837913286881 44.9957109242058)   \n",
       "2  Prague  POINT (14.32427345662177 50.00002074358429)   \n",
       "3   Turin  POINT (7.541509189114433 45.09160503827746)   \n",
       "4   Turin  POINT (7.614078119815749 45.13433106465422)   \n",
       "\n",
       "                             destination_coord             datetime  \\\n",
       "0  POINT (14.43109483523328 50.04052930943246)  2018-05-28 09:03:40   \n",
       "1  POINT (7.720368637535126 45.06782385393849)  2018-05-21 02:54:04   \n",
       "2  POINT (14.47767895969969 50.09339790740321)  2018-05-13 08:52:25   \n",
       "3   POINT (7.74528653441973 45.02628598341506)  2018-05-06 09:49:16   \n",
       "4  POINT (7.527497142312585 45.03335051325654)  2018-05-23 12:45:54   \n",
       "\n",
       "            datasource  \n",
       "0            funny_car  \n",
       "1             baba_car  \n",
       "2         cheap_mobile  \n",
       "3  bad_diesel_vehicles  \n",
       "4        pt_search_app  "
      ]
     },
     "execution_count": 2,
     "metadata": {},
     "output_type": "execute_result"
    }
   ],
   "source": [
    "df = pd.read_csv('trips.csv')\n",
    "df.head()"
   ]
  },
  {
   "cell_type": "code",
   "execution_count": 3,
   "metadata": {},
   "outputs": [],
   "source": [
    "df['datetime'] = pd.to_datetime(df['datetime'], format='%Y-%m-%d %H:%M:%S')\n",
    "df = df.rename(columns={'datetime': 'date'})"
   ]
  },
  {
   "cell_type": "code",
   "execution_count": 4,
   "metadata": {},
   "outputs": [
    {
     "data": {
      "text/html": [
       "<div>\n",
       "<style scoped>\n",
       "    .dataframe tbody tr th:only-of-type {\n",
       "        vertical-align: middle;\n",
       "    }\n",
       "\n",
       "    .dataframe tbody tr th {\n",
       "        vertical-align: top;\n",
       "    }\n",
       "\n",
       "    .dataframe thead th {\n",
       "        text-align: right;\n",
       "    }\n",
       "</style>\n",
       "<table border=\"1\" class=\"dataframe\">\n",
       "  <thead>\n",
       "    <tr style=\"text-align: right;\">\n",
       "      <th></th>\n",
       "      <th>region</th>\n",
       "      <th>origin_coord</th>\n",
       "      <th>destination_coord</th>\n",
       "      <th>date</th>\n",
       "      <th>datasource</th>\n",
       "    </tr>\n",
       "  </thead>\n",
       "  <tbody>\n",
       "    <tr>\n",
       "      <th>0</th>\n",
       "      <td>Prague</td>\n",
       "      <td>14.4973794438195 50.00136875782316</td>\n",
       "      <td>14.43109483523328 50.04052930943246</td>\n",
       "      <td>2018-05-28 09:03:40</td>\n",
       "      <td>funny_car</td>\n",
       "    </tr>\n",
       "    <tr>\n",
       "      <th>1</th>\n",
       "      <td>Turin</td>\n",
       "      <td>7.672837913286881 44.9957109242058</td>\n",
       "      <td>7.720368637535126 45.06782385393849</td>\n",
       "      <td>2018-05-21 02:54:04</td>\n",
       "      <td>baba_car</td>\n",
       "    </tr>\n",
       "    <tr>\n",
       "      <th>2</th>\n",
       "      <td>Prague</td>\n",
       "      <td>14.32427345662177 50.00002074358429</td>\n",
       "      <td>14.47767895969969 50.09339790740321</td>\n",
       "      <td>2018-05-13 08:52:25</td>\n",
       "      <td>cheap_mobile</td>\n",
       "    </tr>\n",
       "    <tr>\n",
       "      <th>3</th>\n",
       "      <td>Turin</td>\n",
       "      <td>7.541509189114433 45.09160503827746</td>\n",
       "      <td>7.74528653441973 45.02628598341506</td>\n",
       "      <td>2018-05-06 09:49:16</td>\n",
       "      <td>bad_diesel_vehicles</td>\n",
       "    </tr>\n",
       "    <tr>\n",
       "      <th>4</th>\n",
       "      <td>Turin</td>\n",
       "      <td>7.614078119815749 45.13433106465422</td>\n",
       "      <td>7.527497142312585 45.03335051325654</td>\n",
       "      <td>2018-05-23 12:45:54</td>\n",
       "      <td>pt_search_app</td>\n",
       "    </tr>\n",
       "  </tbody>\n",
       "</table>\n",
       "</div>"
      ],
      "text/plain": [
       "   region                         origin_coord  \\\n",
       "0  Prague   14.4973794438195 50.00136875782316   \n",
       "1   Turin   7.672837913286881 44.9957109242058   \n",
       "2  Prague  14.32427345662177 50.00002074358429   \n",
       "3   Turin  7.541509189114433 45.09160503827746   \n",
       "4   Turin  7.614078119815749 45.13433106465422   \n",
       "\n",
       "                     destination_coord                date  \\\n",
       "0  14.43109483523328 50.04052930943246 2018-05-28 09:03:40   \n",
       "1  7.720368637535126 45.06782385393849 2018-05-21 02:54:04   \n",
       "2  14.47767895969969 50.09339790740321 2018-05-13 08:52:25   \n",
       "3   7.74528653441973 45.02628598341506 2018-05-06 09:49:16   \n",
       "4  7.527497142312585 45.03335051325654 2018-05-23 12:45:54   \n",
       "\n",
       "            datasource  \n",
       "0            funny_car  \n",
       "1             baba_car  \n",
       "2         cheap_mobile  \n",
       "3  bad_diesel_vehicles  \n",
       "4        pt_search_app  "
      ]
     },
     "execution_count": 4,
     "metadata": {},
     "output_type": "execute_result"
    }
   ],
   "source": [
    "def extract_coordinates(df, col):\n",
    "    coord = []\n",
    "    for i, row in df.iterrows():\n",
    "        coord.append(row[col].split('(')[1].split(')')[0])\n",
    "    df[col] = \"\"\n",
    "    df[col] = coord\n",
    "\n",
    "\n",
    "extract_coordinates(df, 'origin_coord')\n",
    "extract_coordinates(df, 'destination_coord')\n",
    "df.head()"
   ]
  },
  {
   "cell_type": "code",
   "execution_count": 5,
   "metadata": {},
   "outputs": [],
   "source": [
    "df['table_id'] = abs(df[['region', 'origin_coord', 'destination_coord', 'datasource']].sum(axis=1).map(hash))\n",
    "df['region_id'] = abs(df[['region']].sum(axis=1).map(hash))\n",
    "df['datasource_id'] = abs(df[['datasource']].sum(axis=1).map(hash))"
   ]
  },
  {
   "cell_type": "code",
   "execution_count": 6,
   "metadata": {},
   "outputs": [],
   "source": [
    "trips_ft = df[['table_id', 'region_id', 'origin_coord', 'destination_coord', 'date', 'datasource_id']]\n",
    "dim_region = df[['region_id', 'region']].drop_duplicates()\n",
    "dim_datasource = df[['datasource_id', 'datasource']].drop_duplicates()"
   ]
  },
  {
   "cell_type": "code",
   "execution_count": 7,
   "metadata": {},
   "outputs": [
    {
     "name": "stdout",
     "output_type": "stream",
     "text": [
      "(64, 5)\n"
     ]
    },
    {
     "data": {
      "text/html": [
       "<div>\n",
       "<style scoped>\n",
       "    .dataframe tbody tr th:only-of-type {\n",
       "        vertical-align: middle;\n",
       "    }\n",
       "\n",
       "    .dataframe tbody tr th {\n",
       "        vertical-align: top;\n",
       "    }\n",
       "\n",
       "    .dataframe thead th {\n",
       "        text-align: right;\n",
       "    }\n",
       "</style>\n",
       "<table border=\"1\" class=\"dataframe\">\n",
       "  <thead>\n",
       "    <tr style=\"text-align: right;\">\n",
       "      <th></th>\n",
       "      <th>region</th>\n",
       "      <th>date</th>\n",
       "      <th>year</th>\n",
       "      <th>month</th>\n",
       "      <th>day</th>\n",
       "    </tr>\n",
       "  </thead>\n",
       "  <tbody>\n",
       "    <tr>\n",
       "      <th>0</th>\n",
       "      <td>Hamburg</td>\n",
       "      <td>2018-05-01</td>\n",
       "      <td>2018</td>\n",
       "      <td>05</td>\n",
       "      <td>01</td>\n",
       "    </tr>\n",
       "    <tr>\n",
       "      <th>1</th>\n",
       "      <td>Hamburg</td>\n",
       "      <td>2018-05-04</td>\n",
       "      <td>2018</td>\n",
       "      <td>05</td>\n",
       "      <td>04</td>\n",
       "    </tr>\n",
       "    <tr>\n",
       "      <th>2</th>\n",
       "      <td>Hamburg</td>\n",
       "      <td>2018-05-05</td>\n",
       "      <td>2018</td>\n",
       "      <td>05</td>\n",
       "      <td>05</td>\n",
       "    </tr>\n",
       "    <tr>\n",
       "      <th>3</th>\n",
       "      <td>Hamburg</td>\n",
       "      <td>2018-05-06</td>\n",
       "      <td>2018</td>\n",
       "      <td>05</td>\n",
       "      <td>06</td>\n",
       "    </tr>\n",
       "    <tr>\n",
       "      <th>4</th>\n",
       "      <td>Hamburg</td>\n",
       "      <td>2018-05-07</td>\n",
       "      <td>2018</td>\n",
       "      <td>05</td>\n",
       "      <td>07</td>\n",
       "    </tr>\n",
       "  </tbody>\n",
       "</table>\n",
       "</div>"
      ],
      "text/plain": [
       "    region       date  year month day\n",
       "0  Hamburg 2018-05-01  2018    05  01\n",
       "1  Hamburg 2018-05-04  2018    05  04\n",
       "2  Hamburg 2018-05-05  2018    05  05\n",
       "3  Hamburg 2018-05-06  2018    05  06\n",
       "4  Hamburg 2018-05-07  2018    05  07"
      ]
     },
     "execution_count": 7,
     "metadata": {},
     "output_type": "execute_result"
    }
   ],
   "source": [
    "# Query to group by origin and destination coordinates\n",
    "query1 = f\"\"\"\n",
    "select \n",
    "b.region,\n",
    "strftime('%Y-%m-%d', a.date) as date,\n",
    "strftime('%Y', a.date) as year,\n",
    "strftime('%m', a.date) as month,\n",
    "strftime('%d', a.date) as day\n",
    "from trips_ft a\n",
    "left join dim_region b\n",
    "on a.region_id = b.region_id \n",
    "group by\n",
    "b.region, \n",
    "strftime('%Y', a.date),\n",
    "strftime('%m', a.date),\n",
    "strftime('%d', a.date)\n",
    "\"\"\"\n",
    "test = ps.sqldf(query1)\n",
    "print(test.shape)\n",
    "test['date'] = pd.to_datetime(test['date'], format='%Y-%m-%d %H:%M:%S')\n",
    "test.head()"
   ]
  },
  {
   "cell_type": "code",
   "execution_count": 8,
   "metadata": {},
   "outputs": [
    {
     "name": "stdout",
     "output_type": "stream",
     "text": [
      "    region       date  year month day\n",
      "21  Prague 2018-05-01  2018    05  01\n",
      "22  Prague 2018-05-02  2018    05  02\n",
      "23  Prague 2018-05-03  2018    05  03\n",
      "24  Prague 2018-05-04  2018    05  04\n",
      "25  Prague 2018-05-06  2018    05  06\n",
      "26  Prague 2018-05-08  2018    05  08\n",
      "27  Prague 2018-05-09  2018    05  09\n",
      "28  Prague 2018-05-10  2018    05  10\n",
      "29  Prague 2018-05-11  2018    05  11\n",
      "30  Prague 2018-05-12  2018    05  12\n",
      "31  Prague 2018-05-13  2018    05  13\n",
      "32  Prague 2018-05-14  2018    05  14\n",
      "33  Prague 2018-05-15  2018    05  15\n",
      "34  Prague 2018-05-17  2018    05  17\n",
      "35  Prague 2018-05-19  2018    05  19\n",
      "36  Prague 2018-05-20  2018    05  20\n",
      "37  Prague 2018-05-21  2018    05  21\n",
      "38  Prague 2018-05-23  2018    05  23\n",
      "39  Prague 2018-05-26  2018    05  26\n",
      "40  Prague 2018-05-28  2018    05  28\n",
      "41  Prague 2018-05-29  2018    05  29\n"
     ]
    }
   ],
   "source": [
    "# generate a dataframe for each region, appended by an index on the df_f dataframe\n",
    "\n",
    "def filter_region(df, col): \n",
    "    regions = df[col].unique()\n",
    "    for i in range(len(regions)):\n",
    "        regions[i] = df[df[col]==regions[i]]\n",
    "    return regions\n",
    "\n",
    "df_f = filter_region(test, 'region')\n",
    "print(df_f[1])\n",
    "   \n"
   ]
  },
  {
   "cell_type": "code",
   "execution_count": 9,
   "metadata": {},
   "outputs": [
    {
     "name": "stderr",
     "output_type": "stream",
     "text": [
      "Transformation process: Weekly frequency generation progress:   0%|          | 0/3 [00:00<?, ?it/s]C:\\Users\\sacfd\\AppData\\Local\\Temp\\ipykernel_23176\\1209239389.py:3: SettingWithCopyWarning: \n",
      "A value is trying to be set on a copy of a slice from a DataFrame.\n",
      "Try using .loc[row_indexer,col_indexer] = value instead\n",
      "\n",
      "See the caveats in the documentation: https://pandas.pydata.org/pandas-docs/stable/user_guide/indexing.html#returning-a-view-versus-a-copy\n",
      "  df_f[i]['week'] = df_f[i]['date'] - timedelta(days=7)\n",
      "Transformation process: Weekly frequency generation progress: 100%|██████████| 3/3 [00:00<00:00, 1501.54it/s]\n"
     ]
    }
   ],
   "source": [
    "# Generate the a week column by which we'll be grouping next the results \n",
    "for i in tqdm(range(len(df_f)), desc=\"Transformation process: Weekly frequency generation progress\"):\n",
    "    df_f[i]['week'] = df_f[i]['date'] - timedelta(days=7)\n"
   ]
  },
  {
   "cell_type": "code",
   "execution_count": 10,
   "metadata": {},
   "outputs": [
    {
     "name": "stderr",
     "output_type": "stream",
     "text": [
      "Transformation process: Grouping the trips by region in weekly frequency progress: 100%|██████████| 3/3 [00:00<00:00, 299.86it/s]\n"
     ]
    }
   ],
   "source": [
    "final = {}\n",
    "for i in tqdm(range(len(df_f)), desc=\"Transformation process: Grouping the trips by region in weekly frequency progress\"):\n",
    "    final.update({'df_'+df_f[i]['region'].iloc[0]: df_f[i].groupby([pd.Grouper(key='week', freq='W-MON')]).count().reset_index()})"
   ]
  },
  {
   "cell_type": "code",
   "execution_count": 11,
   "metadata": {},
   "outputs": [],
   "source": [
    "for key in final.keys():\n",
    "    final[key] = final[key].rename(columns={'region': 'count'})\n",
    "    final[key]['region'] = key.split('_')[1]\n",
    "    final[key] = final[key][['region', 'week', 'count']]"
   ]
  },
  {
   "cell_type": "code",
   "execution_count": 12,
   "metadata": {},
   "outputs": [
    {
     "name": "stdout",
     "output_type": "stream",
     "text": [
      "    region       week  count\n",
      "0  Hamburg 2018-04-30      5\n",
      "1  Hamburg 2018-05-07      5\n",
      "2  Hamburg 2018-05-14      5\n",
      "3  Hamburg 2018-05-21      4\n",
      "4  Hamburg 2018-05-28      2\n",
      "   region       week  count\n",
      "0  Prague 2018-04-30      5\n",
      "1  Prague 2018-05-07      7\n",
      "2  Prague 2018-05-14      5\n",
      "3  Prague 2018-05-21      3\n",
      "4  Prague 2018-05-28      1\n",
      "  region       week  count\n",
      "0  Turin 2018-04-30      5\n",
      "1  Turin 2018-05-07      4\n",
      "2  Turin 2018-05-14      5\n",
      "3  Turin 2018-05-21      6\n",
      "4  Turin 2018-05-28      2\n"
     ]
    }
   ],
   "source": [
    "for val in final.values():\n",
    "    print(val)"
   ]
  },
  {
   "cell_type": "code",
   "execution_count": 13,
   "metadata": {},
   "outputs": [
    {
     "name": "stderr",
     "output_type": "stream",
     "text": [
      "Transformation process: Plotting results progress:   0%|          | 0/3 [00:00<?, ?it/s]"
     ]
    },
    {
     "data": {
      "image/png": "[encoded data removed]",
      "text/plain": [
       "<Figure size 864x576 with 1 Axes>"
      ]
     },
     "metadata": {
      "needs_background": "light"
     },
     "output_type": "display_data"
    },
    {
     "name": "stderr",
     "output_type": "stream",
     "text": [
      "Transformation process: Plotting results progress:  33%|███▎      | 1/3 [00:00<00:00,  8.74it/s]"
     ]
    },
    {
     "data": {
      "image/png": "[encoded data removed]",
      "text/plain": [
       "<Figure size 864x576 with 1 Axes>"
      ]
     },
     "metadata": {
      "needs_background": "light"
     },
     "output_type": "display_data"
    },
    {
     "name": "stderr",
     "output_type": "stream",
     "text": [
      "Transformation process: Plotting results progress:  67%|██████▋   | 2/3 [00:00<00:00,  6.74it/s]"
     ]
    },
    {
     "data": {
      "image/png": "[encoded data removed]",
      "text/plain": [
       "<Figure size 864x576 with 1 Axes>"
      ]
     },
     "metadata": {
      "needs_background": "light"
     },
     "output_type": "display_data"
    },
    {
     "name": "stderr",
     "output_type": "stream",
     "text": [
      "Transformation process: Plotting results progress: 100%|██████████| 3/3 [00:00<00:00,  7.72it/s]\n"
     ]
    }
   ],
   "source": [
    "## Plotting the results of the trips grouped by region and week\n",
    "for key in tqdm(final.keys(), desc= \"Transformation process: Plotting results progress: \"):\n",
    "    fig = plt.figure(figsize = (12, 8))\n",
    "    plt.bar(final[key]['week'], final[key]['count'], color ='orange', width = 3)\n",
    "    plt.xticks(rotation=45)\n",
    "    plt.xlabel('Trips grouped by the region: ' + key.split('_')[1])\n",
    "    plt.ylabel(\"Number of trips by region and week\")\n",
    "    plt.title(\"Result of trips grouped by region and week\")\n",
    "    plt.show()\n"
   ]
  },
  {
   "cell_type": "markdown",
   "metadata": {},
   "source": [
    "### Connecting to the postgresql database"
   ]
  },
  {
   "cell_type": "code",
   "execution_count": 14,
   "metadata": {},
   "outputs": [],
   "source": [
    "#Connection parameters\n",
    "# Host = '127.0.0.1'\n",
    "# Port = '5432'\n",
    "# Db = 'challenge'\n",
    "# User = 'challenge'\n",
    "# Password = 'Jobsity'"
   ]
  },
  {
   "cell_type": "code",
   "execution_count": 15,
   "metadata": {},
   "outputs": [],
   "source": [
    "#Create the connection string to connect to database\n",
    "conn = psycopg2.connect(host = Host, database = Db, port = Port, user = User, password = Password)\n",
    "cur = conn.cursor()"
   ]
  },
  {
   "cell_type": "code",
   "execution_count": 16,
   "metadata": {},
   "outputs": [],
   "source": [
    "# Sql query to create the Trips fact table\n",
    "create_trips_fact_table = (f\"\"\"CREATE TABLE IF NOT EXISTS trips_ft\n",
    "(table_id bigint not null primary key,\n",
    "region_id bigint not null, \n",
    "origin_coord varchar,\n",
    "destination_coord varchar, \n",
    "date timestamp,\n",
    "datasource_id bigint not null);\n",
    "\"\"\")"
   ]
  },
  {
   "cell_type": "code",
   "execution_count": 17,
   "metadata": {},
   "outputs": [
    {
     "data": {
      "text/plain": [
       "table_id                      int64\n",
       "region_id                     int64\n",
       "origin_coord                 object\n",
       "destination_coord            object\n",
       "date                 datetime64[ns]\n",
       "datasource_id                 int64\n",
       "dtype: object"
      ]
     },
     "execution_count": 17,
     "metadata": {},
     "output_type": "execute_result"
    }
   ],
   "source": [
    "trips_ft.dtypes"
   ]
  },
  {
   "cell_type": "code",
   "execution_count": 18,
   "metadata": {},
   "outputs": [],
   "source": [
    "# Sql query to create the region dimension table\n",
    "create_region_dim_table = (f\"\"\"CREATE TABLE IF NOT EXISTS dim_region\n",
    "(region_id bigint not null primary key,\n",
    "region varchar);\n",
    "\"\"\")"
   ]
  },
  {
   "cell_type": "code",
   "execution_count": 19,
   "metadata": {},
   "outputs": [],
   "source": [
    "# Sql query to create the datasource dimension table\n",
    "create_datasource_dim_table = (f\"\"\"CREATE TABLE IF NOT EXISTS dim_datasource\n",
    "(datasource_id bigint not null primary key,\n",
    "datasource varchar);\n",
    "\"\"\")"
   ]
  },
  {
   "cell_type": "code",
   "execution_count": 20,
   "metadata": {},
   "outputs": [],
   "source": [
    "# Sql query to create the grouped table of the second requirement\n",
    "create_trips_group_table = (f\"\"\"CREATE TABLE IF NOT EXISTS results_table_1\n",
    "(region varchar, \n",
    "date timestamp,\n",
    "year varchar,\n",
    "month varchar,\n",
    "day varchar);\n",
    "\"\"\")"
   ]
  },
  {
   "cell_type": "code",
   "execution_count": 21,
   "metadata": {},
   "outputs": [],
   "source": [
    "#Function to create the table\n",
    "def create_table(cur, conn, query_name):\n",
    "    cur.execute(query_name)\n",
    "    conn.commit()"
   ]
  },
  {
   "cell_type": "code",
   "execution_count": 22,
   "metadata": {},
   "outputs": [],
   "source": [
    "create_table(cur, conn, create_trips_fact_table)\n",
    "create_table(cur, conn, create_region_dim_table)\n",
    "create_table(cur, conn, create_datasource_dim_table)\n",
    "create_table(cur, conn, create_trips_group_table)"
   ]
  },
  {
   "cell_type": "markdown",
   "metadata": {},
   "source": [
    "#### Loading data into the table in psql"
   ]
  },
  {
   "cell_type": "code",
   "execution_count": 23,
   "metadata": {},
   "outputs": [],
   "source": [
    "def insert_fact_table(cur, table_id, region_id, origin_coord, destination_coord, date, datasource_id):\n",
    "    \n",
    "    insert_data = (f\"\"\"insert into trips_ft\n",
    "    (table_id, region_id, origin_coord, destination_coord, date, datasource_id)\n",
    "    values(%s, %s, %s, %s, %s, %s)\"\"\")\n",
    "\n",
    "    data_to_insert = (table_id, region_id, origin_coord, destination_coord, date, datasource_id)\n",
    "    cur.execute(insert_data, data_to_insert)"
   ]
  },
  {
   "cell_type": "code",
   "execution_count": 24,
   "metadata": {},
   "outputs": [],
   "source": [
    "def write_fact_table(cur, data):\n",
    "    for i, row in tqdm(data.iterrows(), desc=\"Ingestion process: fact table progress:\"):\n",
    "        insert_fact_table(cur, row['table_id'], row['region_id'], row['origin_coord'], row['destination_coord'], row['date'], row['datasource_id'])"
   ]
  },
  {
   "cell_type": "code",
   "execution_count": 25,
   "metadata": {},
   "outputs": [],
   "source": [
    "def insert_dim_region(cur, region_id, region):\n",
    "    \n",
    "    insert_data = (f\"\"\"insert into dim_region\n",
    "    (region_id, region)\n",
    "    values(%s, %s)\"\"\")\n",
    "\n",
    "    data_to_insert = (region_id, region)\n",
    "    cur.execute(insert_data, data_to_insert)"
   ]
  },
  {
   "cell_type": "code",
   "execution_count": 26,
   "metadata": {},
   "outputs": [],
   "source": [
    "def write_dim_region(cur, data):\n",
    "    for i, row in tqdm(data.iterrows(), desc=\"Ingestion process: dim region table progress:\"):\n",
    "        insert_dim_region(cur, row['region_id'], row['region'])"
   ]
  },
  {
   "cell_type": "code",
   "execution_count": 27,
   "metadata": {},
   "outputs": [],
   "source": [
    "def insert_dim_datasource(cur, datasource_id, datasource):\n",
    "    \n",
    "    insert_data = (f\"\"\"insert into dim_datasource\n",
    "    (datasource_id, datasource)\n",
    "    values(%s, %s)\"\"\")\n",
    "\n",
    "    data_to_insert = (datasource_id, datasource)\n",
    "    cur.execute(insert_data, data_to_insert)"
   ]
  },
  {
   "cell_type": "code",
   "execution_count": 28,
   "metadata": {},
   "outputs": [],
   "source": [
    "def write_dim_datasource(cur, data):\n",
    "    for i, row in tqdm(data.iterrows(), desc=\"Ingestion process: dim datasource table progress:\"):\n",
    "        insert_dim_datasource(cur, row['datasource_id'], row['datasource'])"
   ]
  },
  {
   "cell_type": "code",
   "execution_count": 29,
   "metadata": {},
   "outputs": [
    {
     "data": {
      "text/plain": [
       "region            object\n",
       "date      datetime64[ns]\n",
       "year              object\n",
       "month             object\n",
       "day               object\n",
       "dtype: object"
      ]
     },
     "execution_count": 29,
     "metadata": {},
     "output_type": "execute_result"
    }
   ],
   "source": [
    "test.dtypes"
   ]
  },
  {
   "cell_type": "code",
   "execution_count": 30,
   "metadata": {},
   "outputs": [],
   "source": [
    "def insert_results_1(cur, region, date, year, month, day):\n",
    "    \n",
    "    insert_data = (f\"\"\"insert into results_table_1\n",
    "    (region, date, year, month, day)\n",
    "    values(%s, %s, %s, %s, %s)\"\"\")\n",
    "\n",
    "    data_to_insert = (region, date, year, month, day)\n",
    "    cur.execute(insert_data, data_to_insert)"
   ]
  },
  {
   "cell_type": "code",
   "execution_count": 31,
   "metadata": {},
   "outputs": [],
   "source": [
    "def write_results_1(cur, data):\n",
    "    for i, row in tqdm(data.iterrows(), desc=\"Ingestion process: results table progress:\"):\n",
    "        insert_results_1(cur, row['region'], row['date'], row['year'], row['month'], row['day'])"
   ]
  },
  {
   "cell_type": "code",
   "execution_count": 32,
   "metadata": {},
   "outputs": [
    {
     "name": "stderr",
     "output_type": "stream",
     "text": [
      "Ingestion process: fact table progress:: 100it [00:00, 2987.93it/s]\n",
      "Ingestion process: dim region table progress:: 3it [00:00, 3006.67it/s]\n",
      "Ingestion process: dim datasource table progress:: 5it [00:00, 2503.76it/s]\n",
      "Ingestion process: results table progress:: 64it [00:00, 2666.41it/s]\n"
     ]
    }
   ],
   "source": [
    "write_fact_table(cur, trips_ft)\n",
    "write_dim_region(cur, dim_region)\n",
    "write_dim_datasource(cur, dim_datasource)\n",
    "write_results_1(cur, test)\n",
    "conn.commit()"
   ]
  },
  {
   "cell_type": "code",
   "execution_count": null,
   "metadata": {},
   "outputs": [],
   "source": []
  },
  {
   "cell_type": "code",
   "execution_count": null,
   "metadata": {},
   "outputs": [],
   "source": []
  }
 ],
 "metadata": {
  "kernelspec": {
   "display_name": "Python 3.10.2 64-bit",
   "language": "python",
   "name": "python3"
  },
  "language_info": {
   "codemirror_mode": {
    "name": "ipython",
    "version": 3
   },
   "file_extension": ".py",
   "mimetype": "text/x-python",
   "name": "python",
   "nbconvert_exporter": "python",
   "pygments_lexer": "ipython3",
   "version": "3.10.2"
  },
  "orig_nbformat": 4,
  "vscode": {
   "interpreter": {
    "hash": "da22ccb420c804582e62604d87965e7a34de09a62868f16ac8abea146baa0095"
   }
  }
 },
 "nbformat": 4,
 "nbformat_minor": 2
}
